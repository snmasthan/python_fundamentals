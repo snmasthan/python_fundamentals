{
 "cells": [
  {
   "cell_type": "code",
   "execution_count": 14,
   "id": "c68a9a8d",
   "metadata": {},
   "outputs": [
    {
     "data": {
      "text/plain": [
       "list"
      ]
     },
     "execution_count": 14,
     "metadata": {},
     "output_type": "execute_result"
    }
   ],
   "source": [
    "students=[\"masthan\",\"vali\",\"navya\",\"ayesha\",\"raji\"]\n",
    "#print(students)\n",
    "type(students)"
   ]
  },
  {
   "cell_type": "code",
   "execution_count": 2,
   "id": "e02728e4",
   "metadata": {},
   "outputs": [
    {
     "data": {
      "text/plain": [
       "tuple"
      ]
     },
     "execution_count": 2,
     "metadata": {},
     "output_type": "execute_result"
    }
   ],
   "source": [
    "type(students)"
   ]
  },
  {
   "cell_type": "code",
   "execution_count": 13,
   "id": "8563ae30",
   "metadata": {},
   "outputs": [
    {
     "data": {
      "text/plain": [
       "tuple"
      ]
     },
     "execution_count": 13,
     "metadata": {},
     "output_type": "execute_result"
    }
   ],
   "source": [
    "friends=(\"masthan\",\"vali\",\"navya\",\"ayesha\",\"raji\")\n",
    "type(friends)\n",
    "#print(friends)"
   ]
  },
  {
   "cell_type": "code",
   "execution_count": 7,
   "id": "e2e30a35",
   "metadata": {},
   "outputs": [
    {
     "name": "stdout",
     "output_type": "stream",
     "text": [
      "masthan,vali,raji,rao\n"
     ]
    },
    {
     "data": {
      "text/plain": [
       "str"
      ]
     },
     "execution_count": 7,
     "metadata": {},
     "output_type": "execute_result"
    }
   ],
   "source": [
    "friend=(\"masthan,vali,raji,rao\")\n",
    "print(friend)\n",
    "type(friend)"
   ]
  },
  {
   "cell_type": "code",
   "execution_count": 12,
   "id": "5133fc75",
   "metadata": {},
   "outputs": [
    {
     "data": {
      "text/plain": [
       "list"
      ]
     },
     "execution_count": 12,
     "metadata": {},
     "output_type": "execute_result"
    }
   ],
   "source": [
    "students1=[\"masthan,vali,raji,ayesha\"]\n",
    "type(students1)"
   ]
  },
  {
   "cell_type": "code",
   "execution_count": 10,
   "id": "e3b813d4",
   "metadata": {},
   "outputs": [
    {
     "ename": "TypeError",
     "evalue": "'list' object is not callable",
     "output_type": "error",
     "traceback": [
      "\u001b[1;31m---------------------------------------------------------------------------\u001b[0m",
      "\u001b[1;31mTypeError\u001b[0m                                 Traceback (most recent call last)",
      "Cell \u001b[1;32mIn[10], line 1\u001b[0m\n\u001b[1;32m----> 1\u001b[0m \u001b[38;5;28mprint\u001b[39m(\u001b[43mfriends\u001b[49m\u001b[43m(\u001b[49m\u001b[38;5;241;43m1\u001b[39;49m\u001b[43m)\u001b[49m)\n",
      "\u001b[1;31mTypeError\u001b[0m: 'list' object is not callable"
     ]
    }
   ],
   "source": [
    "print(friends(1))"
   ]
  },
  {
   "cell_type": "code",
   "execution_count": 11,
   "id": "d2ddfdba",
   "metadata": {},
   "outputs": [
    {
     "name": "stdout",
     "output_type": "stream",
     "text": [
      "navya\n"
     ]
    }
   ],
   "source": [
    "print(friends[2])"
   ]
  },
  {
   "cell_type": "code",
   "execution_count": 17,
   "id": "bd21baab",
   "metadata": {},
   "outputs": [],
   "source": [
    "students.append('viji')"
   ]
  },
  {
   "cell_type": "code",
   "execution_count": 18,
   "id": "f6f535c2",
   "metadata": {},
   "outputs": [
    {
     "name": "stdout",
     "output_type": "stream",
     "text": [
      "['masthan', 'vali', 'navya', 'ayesha', 'raji', 'viji', 'viji']\n"
     ]
    }
   ],
   "source": [
    "print(students)"
   ]
  },
  {
   "cell_type": "code",
   "execution_count": 19,
   "id": "3c610420",
   "metadata": {},
   "outputs": [],
   "source": [
    "students.append('ulla')"
   ]
  },
  {
   "cell_type": "code",
   "execution_count": 20,
   "id": "587d2df6",
   "metadata": {},
   "outputs": [
    {
     "name": "stdout",
     "output_type": "stream",
     "text": [
      "['masthan', 'vali', 'navya', 'ayesha', 'raji', 'viji', 'viji', 'ulla']\n"
     ]
    }
   ],
   "source": [
    "print(students)"
   ]
  },
  {
   "cell_type": "code",
   "execution_count": 22,
   "id": "d703ca20",
   "metadata": {},
   "outputs": [],
   "source": [
    "students.insert(1,'gouse')"
   ]
  },
  {
   "cell_type": "code",
   "execution_count": 23,
   "id": "7dcab0f9",
   "metadata": {},
   "outputs": [
    {
     "name": "stdout",
     "output_type": "stream",
     "text": [
      "['masthan', 'gouse', 'vali', 'navya', 'ayesha', 'raji', 'viji', 'viji', 'ulla']\n"
     ]
    }
   ],
   "source": [
    "print(students)"
   ]
  },
  {
   "cell_type": "code",
   "execution_count": 24,
   "id": "dadc878a",
   "metadata": {},
   "outputs": [],
   "source": [
    "students[2]='najiya'"
   ]
  },
  {
   "cell_type": "code",
   "execution_count": 25,
   "id": "ae058b6c",
   "metadata": {},
   "outputs": [
    {
     "name": "stdout",
     "output_type": "stream",
     "text": [
      "['masthan', 'gouse', 'najiya', 'navya', 'ayesha', 'raji', 'viji', 'viji', 'ulla']\n"
     ]
    }
   ],
   "source": [
    "print(students)"
   ]
  },
  {
   "cell_type": "code",
   "execution_count": 26,
   "id": "510852c5",
   "metadata": {},
   "outputs": [
    {
     "name": "stdout",
     "output_type": "stream",
     "text": [
      "['masthan', 'gouse', 'najiya', 'navya', 'ayesha', 'raji', 'viji', 'viji']\n"
     ]
    }
   ],
   "source": [
    "x=students.pop(0)\n",
    "print(students)"
   ]
  },
  {
   "cell_type": "code",
   "execution_count": 34,
   "id": "75677c4e",
   "metadata": {},
   "outputs": [
    {
     "name": "stdout",
     "output_type": "stream",
     "text": [
      "['masthan', 'gouse', 'najiya', 'navya', 'ayesha', 'raji', 'viji', 'viji']\n"
     ]
    }
   ],
   "source": [
    "#print(x)\n",
    "print(students)"
   ]
  },
  {
   "cell_type": "code",
   "execution_count": 31,
   "id": "acb0bed3",
   "metadata": {},
   "outputs": [
    {
     "name": "stdout",
     "output_type": "stream",
     "text": [
      "['masthan', 'gouse', 'najiya', 'navya', 'ayesha', 'raji', 'viji', 'viji']\n"
     ]
    }
   ],
   "source": [
    "print(students)"
   ]
  },
  {
   "cell_type": "code",
   "execution_count": 35,
   "id": "0baaf01f",
   "metadata": {},
   "outputs": [],
   "source": [
    "del students[0]"
   ]
  },
  {
   "cell_type": "code",
   "execution_count": 36,
   "id": "a718a937",
   "metadata": {},
   "outputs": [
    {
     "name": "stdout",
     "output_type": "stream",
     "text": [
      "['gouse', 'najiya', 'navya', 'ayesha', 'raji', 'viji', 'viji']\n"
     ]
    }
   ],
   "source": [
    "print(students)"
   ]
  },
  {
   "cell_type": "code",
   "execution_count": 37,
   "id": "6780424b",
   "metadata": {},
   "outputs": [
    {
     "data": {
      "text/plain": [
       "'navya'"
      ]
     },
     "execution_count": 37,
     "metadata": {},
     "output_type": "execute_result"
    }
   ],
   "source": [
    "students.pop(2)"
   ]
  },
  {
   "cell_type": "code",
   "execution_count": 38,
   "id": "08c0c7c6",
   "metadata": {},
   "outputs": [
    {
     "name": "stdout",
     "output_type": "stream",
     "text": [
      "['gouse', 'najiya', 'ayesha', 'raji', 'viji', 'viji']\n"
     ]
    }
   ],
   "source": [
    "print(students)"
   ]
  },
  {
   "cell_type": "code",
   "execution_count": null,
   "id": "8968891c",
   "metadata": {},
   "outputs": [],
   "source": []
  }
 ],
 "metadata": {
  "kernelspec": {
   "display_name": "Python 3 (ipykernel)",
   "language": "python",
   "name": "python3"
  },
  "language_info": {
   "codemirror_mode": {
    "name": "ipython",
    "version": 3
   },
   "file_extension": ".py",
   "mimetype": "text/x-python",
   "name": "python",
   "nbconvert_exporter": "python",
   "pygments_lexer": "ipython3",
   "version": "3.10.9"
  }
 },
 "nbformat": 4,
 "nbformat_minor": 5
}
