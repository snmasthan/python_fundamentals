{
 "cells": [
  {
   "cell_type": "code",
   "execution_count": 1,
   "id": "00011dfe",
   "metadata": {},
   "outputs": [
    {
     "data": {
      "text/plain": [
       "list"
      ]
     },
     "execution_count": 1,
     "metadata": {},
     "output_type": "execute_result"
    }
   ],
   "source": [
    "students=['masthan','nasirun','ananya','vali','visesha']\n",
    "type(students)"
   ]
  },
  {
   "cell_type": "code",
   "execution_count": 2,
   "id": "8dc23c16",
   "metadata": {},
   "outputs": [
    {
     "name": "stdout",
     "output_type": "stream",
     "text": [
      "['masthan', 'nasirun', 'ananya', 'vali', 'visesha']\n"
     ]
    }
   ],
   "source": [
    "print(students)"
   ]
  },
  {
   "cell_type": "code",
   "execution_count": 5,
   "id": "e0d9f2cf",
   "metadata": {},
   "outputs": [
    {
     "ename": "SyntaxError",
     "evalue": "invalid decimal literal (2263469539.py, line 1)",
     "output_type": "error",
     "traceback": [
      "\u001b[1;36m  Cell \u001b[1;32mIn[5], line 1\u001b[1;36m\u001b[0m\n\u001b[1;33m    print(f'keep  up the good work,{students[0.title()]}')\u001b[0m\n\u001b[1;37m               ^\u001b[0m\n\u001b[1;31mSyntaxError\u001b[0m\u001b[1;31m:\u001b[0m invalid decimal literal\n"
     ]
    }
   ],
   "source": [
    "print(f'keep up the good work,{students[0.title()]}')"
   ]
  },
  {
   "cell_type": "code",
   "execution_count": 6,
   "id": "12083cf0",
   "metadata": {},
   "outputs": [
    {
     "name": "stdout",
     "output_type": "stream",
     "text": [
      "keep up the good work,masthan\n",
      "keep up the good work,nasirun\n",
      "keep up the good work,ananya\n",
      "keep up the good work,vali\n",
      "keep up the good work,visesha\n"
     ]
    }
   ],
   "source": [
    "for x in students:\n",
    "    print(f\"keep up the good work,{x}\")"
   ]
  },
  {
   "cell_type": "code",
   "execution_count": 7,
   "id": "d5e0bfda",
   "metadata": {},
   "outputs": [
    {
     "name": "stdout",
     "output_type": "stream",
     "text": [
      "keep up the good work,masthan\n",
      "\n",
      "keep up the good work,nasirun\n",
      "\n",
      "keep up the good work,ananya\n",
      "\n",
      "keep up the good work,vali\n",
      "\n",
      "keep up the good work,visesha\n",
      "\n"
     ]
    }
   ],
   "source": [
    "for x in students:\n",
    "    print(f\"keep up the good work,{x}\\n\")"
   ]
  },
  {
   "cell_type": "code",
   "execution_count": 8,
   "id": "5bd105ec",
   "metadata": {},
   "outputs": [
    {
     "name": "stdout",
     "output_type": "stream",
     "text": [
      "keep up the good work,masthan\n",
      "\t\n",
      "keep up the good work,nasirun\n",
      "\t\n",
      "keep up the good work,ananya\n",
      "\t\n",
      "keep up the good work,vali\n",
      "\t\n",
      "keep up the good work,visesha\n",
      "\t\n"
     ]
    }
   ],
   "source": [
    "for a in students:\n",
    "    print(f\"keep up the good work,{a}\")"
   ]
  },
  {
   "cell_type": "code",
   "execution_count": 9,
   "id": "af7be9d2",
   "metadata": {},
   "outputs": [
    {
     "name": "stdout",
     "output_type": "stream",
     "text": [
      "keep up the good work,masthan\n",
      "do summit your github urls to my inbox,masthan\n",
      "keep up the good work,nasirun\n",
      "do summit your github urls to my inbox,nasirun\n",
      "keep up the good work,ananya\n",
      "do summit your github urls to my inbox,ananya\n",
      "keep up the good work,vali\n",
      "do summit your github urls to my inbox,vali\n",
      "keep up the good work,visesha\n",
      "do summit your github urls to my inbox,visesha\n"
     ]
    }
   ],
   "source": [
    "for a in students:\n",
    "    print(f\"keep up the good work,{a}\")\n",
    "    print(f\"do summit your github urls to my inbox,{a}\")"
   ]
  },
  {
   "cell_type": "code",
   "execution_count": 10,
   "id": "d692ade4",
   "metadata": {},
   "outputs": [
    {
     "name": "stdout",
     "output_type": "stream",
     "text": [
      "keep up the good work,masthan\n",
      "do summit your github urls to my inbox,masthan\n",
      "\n",
      "keep up the good work,nasirun\n",
      "do summit your github urls to my inbox,nasirun\n",
      "\n",
      "keep up the good work,ananya\n",
      "do summit your github urls to my inbox,ananya\n",
      "\n",
      "keep up the good work,vali\n",
      "do summit your github urls to my inbox,vali\n",
      "\n",
      "keep up the good work,visesha\n",
      "do summit your github urls to my inbox,visesha\n",
      "\n"
     ]
    }
   ],
   "source": [
    "for a in students:\n",
    "    print(f\"keep up the good work,{a}\")\n",
    "    print(f\"do summit your github urls to my inbox,{a}\\n\")"
   ]
  },
  {
   "cell_type": "code",
   "execution_count": 12,
   "id": "16fc9479",
   "metadata": {},
   "outputs": [
    {
     "name": "stdout",
     "output_type": "stream",
     "text": [
      "keep up the good work,masthan\n",
      "do summit your github urls to my inbox\n",
      "\n",
      "keep up the good work,nasirun\n",
      "do summit your github urls to my inbox\n",
      "\n",
      "keep up the good work,ananya\n",
      "do summit your github urls to my inbox\n",
      "\n",
      "keep up the good work,vali\n",
      "do summit your github urls to my inbox\n",
      "\n",
      "keep up the good work,visesha\n",
      "do summit your github urls to my inbox\n",
      "\n"
     ]
    }
   ],
   "source": [
    "for a in students:\n",
    "    print(f\"keep up the good work,{a}\")\n",
    "    print(f\"do summit your github urls to my inbox\\n\")"
   ]
  },
  {
   "cell_type": "code",
   "execution_count": 13,
   "id": "b8c7aab3",
   "metadata": {},
   "outputs": [
    {
     "data": {
      "text/plain": [
       "tuple"
      ]
     },
     "execution_count": 13,
     "metadata": {},
     "output_type": "execute_result"
    }
   ],
   "source": [
    "students=('masthan','nasirun','ananya','vali','visesha')\n",
    "type(students)"
   ]
  },
  {
   "cell_type": "code",
   "execution_count": 14,
   "id": "38a38e07",
   "metadata": {},
   "outputs": [
    {
     "ename": "TypeError",
     "evalue": "'tuple' object does not support item assignment",
     "output_type": "error",
     "traceback": [
      "\u001b[1;31m---------------------------------------------------------------------------\u001b[0m",
      "\u001b[1;31mTypeError\u001b[0m                                 Traceback (most recent call last)",
      "Cell \u001b[1;32mIn[14], line 1\u001b[0m\n\u001b[1;32m----> 1\u001b[0m students[\u001b[38;5;241m0\u001b[39m]\u001b[38;5;241m=\u001b[39m\u001b[38;5;124m'\u001b[39m\u001b[38;5;124msonali\u001b[39m\u001b[38;5;124m'\u001b[39m\n",
      "\u001b[1;31mTypeError\u001b[0m: 'tuple' object does not support item assignment"
     ]
    }
   ],
   "source": [
    "students[0]='sonali'"
   ]
  },
  {
   "cell_type": "code",
   "execution_count": 16,
   "id": "4efab7ae",
   "metadata": {},
   "outputs": [
    {
     "data": {
      "text/plain": [
       "tuple"
      ]
     },
     "execution_count": 16,
     "metadata": {},
     "output_type": "execute_result"
    }
   ],
   "source": [
    "dimensions=(25,75)\n",
    "#print(dimensions)\n",
    "type(dimensions)"
   ]
  },
  {
   "cell_type": "code",
   "execution_count": null,
   "id": "61b21d50",
   "metadata": {},
   "outputs": [],
   "source": []
  }
 ],
 "metadata": {
  "kernelspec": {
   "display_name": "Python 3 (ipykernel)",
   "language": "python",
   "name": "python3"
  },
  "language_info": {
   "codemirror_mode": {
    "name": "ipython",
    "version": 3
   },
   "file_extension": ".py",
   "mimetype": "text/x-python",
   "name": "python",
   "nbconvert_exporter": "python",
   "pygments_lexer": "ipython3",
   "version": "3.10.9"
  }
 },
 "nbformat": 4,
 "nbformat_minor": 5
}
