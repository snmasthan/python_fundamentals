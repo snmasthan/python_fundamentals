{
 "cells": [
  {
   "cell_type": "code",
   "execution_count": 2,
   "id": "afd861b3",
   "metadata": {},
   "outputs": [
    {
     "name": "stdout",
     "output_type": "stream",
     "text": [
      "masthanvali\n"
     ]
    }
   ],
   "source": [
    "fristname=\"masthan\"\n",
    "lastname=\"vali\"\n",
    "fullname=f\"{fristname}{lastname}\"\n",
    "print(fullname)"
   ]
  },
  {
   "cell_type": "code",
   "execution_count": 3,
   "id": "02e70c12",
   "metadata": {},
   "outputs": [
    {
     "name": "stdout",
     "output_type": "stream",
     "text": [
      "Masthanvali\n"
     ]
    }
   ],
   "source": [
    "fristname=\"masthan\"\n",
    "lastname=\"vali\"\n",
    "fullname=f\"{fristname}{lastname}\"\n",
    "print(fullname.title())"
   ]
  },
  {
   "cell_type": "code",
   "execution_count": 6,
   "id": "c8af108c",
   "metadata": {},
   "outputs": [
    {
     "name": "stdout",
     "output_type": "stream",
     "text": [
      "keep up the good work,Masthanvali\n"
     ]
    }
   ],
   "source": [
    "message=f\"keep up the good work,{fullname.title()}\"\n",
    "print(message)"
   ]
  },
  {
   "cell_type": "code",
   "execution_count": 8,
   "id": "4a0cc2f7",
   "metadata": {},
   "outputs": [
    {
     "ename": "SyntaxError",
     "evalue": "invalid syntax (1331076287.py, line 1)",
     "output_type": "error",
     "traceback": [
      "\u001b[1;36m  Cell \u001b[1;32mIn[8], line 1\u001b[1;36m\u001b[0m\n\u001b[1;33m    adding white spaces\u001b[0m\n\u001b[1;37m           ^\u001b[0m\n\u001b[1;31mSyntaxError\u001b[0m\u001b[1;31m:\u001b[0m invalid syntax\n"
     ]
    }
   ],
   "source": [
    "adding white spaces\n",
    "print('favarourate-programing-language:javacc++pytongit')\n",
    "\n",
    "\n"
   ]
  },
  {
   "cell_type": "code",
   "execution_count": 9,
   "id": "de36930f",
   "metadata": {},
   "outputs": [
    {
     "name": "stdout",
     "output_type": "stream",
     "text": [
      "favarourate-programing-language:\n",
      "java\n",
      "c\n",
      "c++\n",
      "pyton\n",
      "git\n"
     ]
    }
   ],
   "source": [
    "print('favarourate-programing-language:\\njava\\nc\\nc++\\npyton\\ngit')\n"
   ]
  },
  {
   "cell_type": "code",
   "execution_count": 11,
   "id": "0e7f1298",
   "metadata": {},
   "outputs": [
    {
     "name": "stdout",
     "output_type": "stream",
     "text": [
      "favarourate-programing-language:\n",
      "\tjava\n",
      "\tc\n",
      "\tc++\n",
      "\tpyton\n",
      "\tgit\n"
     ]
    }
   ],
   "source": [
    "print('favarourate-programing-language:\\n\\tjava\\n\\tc\\n\\tc++\\n\\tpyton\\n\\tgit')"
   ]
  },
  {
   "cell_type": "code",
   "execution_count": 12,
   "id": "22510352",
   "metadata": {},
   "outputs": [
    {
     "name": "stdout",
     "output_type": "stream",
     "text": [
      "masthan\n"
     ]
    }
   ],
   "source": [
    "name='masthan'\n",
    "print(name)"
   ]
  },
  {
   "cell_type": "code",
   "execution_count": 13,
   "id": "faa75b87",
   "metadata": {},
   "outputs": [
    {
     "name": "stdout",
     "output_type": "stream",
     "text": [
      "  masthan\n"
     ]
    }
   ],
   "source": [
    "name1=\"  masthan\"\n",
    "print(name1)"
   ]
  },
  {
   "cell_type": "code",
   "execution_count": 14,
   "id": "bffefa7f",
   "metadata": {},
   "outputs": [
    {
     "name": "stdout",
     "output_type": "stream",
     "text": [
      "masthan  \n"
     ]
    }
   ],
   "source": [
    "name2=\"masthan  \"\n",
    "print(name2)"
   ]
  },
  {
   "cell_type": "code",
   "execution_count": 15,
   "id": "1228b11f",
   "metadata": {},
   "outputs": [
    {
     "name": "stdout",
     "output_type": "stream",
     "text": [
      " masthan \n"
     ]
    }
   ],
   "source": [
    "name3=\" masthan \"\n",
    "print(name3)"
   ]
  },
  {
   "cell_type": "code",
   "execution_count": 16,
   "id": "757173b8",
   "metadata": {},
   "outputs": [
    {
     "name": "stdout",
     "output_type": "stream",
     "text": [
      "masthan\n"
     ]
    }
   ],
   "source": [
    "print(name1.lstrip())"
   ]
  },
  {
   "cell_type": "code",
   "execution_count": 17,
   "id": "051ad807",
   "metadata": {},
   "outputs": [
    {
     "name": "stdout",
     "output_type": "stream",
     "text": [
      "masthan\n"
     ]
    }
   ],
   "source": [
    "print(name2.rstrip())"
   ]
  },
  {
   "cell_type": "code",
   "execution_count": 18,
   "id": "98f49618",
   "metadata": {},
   "outputs": [
    {
     "name": "stdout",
     "output_type": "stream",
     "text": [
      "masthan\n"
     ]
    }
   ],
   "source": [
    "print(name3.strip())"
   ]
  },
  {
   "cell_type": "code",
   "execution_count": null,
   "id": "25c17bc7",
   "metadata": {},
   "outputs": [],
   "source": []
  }
 ],
 "metadata": {
  "kernelspec": {
   "display_name": "Python 3 (ipykernel)",
   "language": "python",
   "name": "python3"
  },
  "language_info": {
   "codemirror_mode": {
    "name": "ipython",
    "version": 3
   },
   "file_extension": ".py",
   "mimetype": "text/x-python",
   "name": "python",
   "nbconvert_exporter": "python",
   "pygments_lexer": "ipython3",
   "version": "3.10.9"
  }
 },
 "nbformat": 4,
 "nbformat_minor": 5
}
