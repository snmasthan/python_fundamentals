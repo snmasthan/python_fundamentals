{
 "cells": [
  {
   "cell_type": "code",
   "execution_count": null,
   "id": "11daf4c2",
   "metadata": {},
   "outputs": [],
   "source": [
    "Dictionary data type:"
   ]
  },
  {
   "cell_type": "code",
   "execution_count": 4,
   "id": "ca2eb522",
   "metadata": {},
   "outputs": [],
   "source": [
    "princes = {'colour':'green','points':50}"
   ]
  },
  {
   "cell_type": "code",
   "execution_count": 5,
   "id": "8f1365b3",
   "metadata": {},
   "outputs": [
    {
     "name": "stdout",
     "output_type": "stream",
     "text": [
      "{'colour': 'green', 'points': 50}\n"
     ]
    }
   ],
   "source": [
    "print(princes)"
   ]
  },
  {
   "cell_type": "code",
   "execution_count": 6,
   "id": "27f4cf1e",
   "metadata": {},
   "outputs": [
    {
     "data": {
      "text/plain": [
       "dict"
      ]
     },
     "execution_count": 6,
     "metadata": {},
     "output_type": "execute_result"
    }
   ],
   "source": [
    "type(princes)"
   ]
  },
  {
   "cell_type": "code",
   "execution_count": 7,
   "id": "04872929",
   "metadata": {},
   "outputs": [],
   "source": [
    "princes['start_podition'] = 1"
   ]
  },
  {
   "cell_type": "code",
   "execution_count": 8,
   "id": "23140446",
   "metadata": {},
   "outputs": [
    {
     "name": "stdout",
     "output_type": "stream",
     "text": [
      "{'colour': 'green', 'points': 50, 'start_podition': 1}\n"
     ]
    }
   ],
   "source": [
    "print(princes)"
   ]
  },
  {
   "cell_type": "code",
   "execution_count": 9,
   "id": "8e930b4c",
   "metadata": {},
   "outputs": [],
   "source": [
    "princes['colour'] = 'yellow'"
   ]
  },
  {
   "cell_type": "code",
   "execution_count": 10,
   "id": "85f57c6d",
   "metadata": {},
   "outputs": [
    {
     "name": "stdout",
     "output_type": "stream",
     "text": [
      "{'colour': 'yellow', 'points': 50, 'start_podition': 1}\n"
     ]
    }
   ],
   "source": [
    "print(princes)"
   ]
  },
  {
   "cell_type": "code",
   "execution_count": null,
   "id": "eddfdf2f",
   "metadata": {},
   "outputs": [],
   "source": [
    "princes['points'] = 100"
   ]
  },
  {
   "cell_type": "code",
   "execution_count": 12,
   "id": "315f9bf3",
   "metadata": {},
   "outputs": [
    {
     "name": "stdout",
     "output_type": "stream",
     "text": [
      "50\n"
     ]
    }
   ],
   "source": [
    "print(princes['points'])"
   ]
  },
  {
   "cell_type": "code",
   "execution_count": 13,
   "id": "3f26e015",
   "metadata": {},
   "outputs": [
    {
     "name": "stdout",
     "output_type": "stream",
     "text": [
      "{'colour': 'yellow', 'points': 50, 'start_podition': 1}\n"
     ]
    }
   ],
   "source": [
    "print(princes)"
   ]
  },
  {
   "cell_type": "code",
   "execution_count": 15,
   "id": "f1e40709",
   "metadata": {},
   "outputs": [],
   "source": [
    "user_account = {'user_name':'code_training_accademy','frist_name':'code','last_name':'training','dob':'01-7-1998','pwd':'12345'}"
   ]
  },
  {
   "cell_type": "code",
   "execution_count": 17,
   "id": "f41278b5",
   "metadata": {},
   "outputs": [
    {
     "name": "stdout",
     "output_type": "stream",
     "text": [
      "{'user_name': 'code_training_accademy', 'frist_name': 'code', 'last_name': 'training', 'dob': '01-7-1998', 'pwd': '12345'}\n"
     ]
    }
   ],
   "source": [
    "print(user_account)"
   ]
  },
  {
   "cell_type": "code",
   "execution_count": 18,
   "id": "2e30fc62",
   "metadata": {},
   "outputs": [
    {
     "name": "stdout",
     "output_type": "stream",
     "text": [
      "user_name\n",
      "code_training_accademy\n",
      "frist_name\n",
      "code\n",
      "last_name\n",
      "training\n",
      "dob\n",
      "01-7-1998\n",
      "pwd\n",
      "12345\n"
     ]
    }
   ],
   "source": [
    "for a,b in user_account.items():\n",
    "    print(a)\n",
    "    print(b)"
   ]
  },
  {
   "cell_type": "code",
   "execution_count": 19,
   "id": "5d046343",
   "metadata": {},
   "outputs": [
    {
     "name": "stdout",
     "output_type": "stream",
     "text": [
      "key:user_name\n",
      "value:code_training_accademy\n",
      "key:frist_name\n",
      "value:code\n",
      "key:last_name\n",
      "value:training\n",
      "key:dob\n",
      "value:01-7-1998\n",
      "key:pwd\n",
      "value:12345\n"
     ]
    }
   ],
   "source": [
    "for a,b in user_account.items():\n",
    "    print(f\"key:{a}\")\n",
    "    print(f\"value:{b}\")"
   ]
  },
  {
   "cell_type": "code",
   "execution_count": 20,
   "id": "0c14c71d",
   "metadata": {},
   "outputs": [
    {
     "name": "stdout",
     "output_type": "stream",
     "text": [
      "key:user_name\n",
      "value:code_training_accademy\n",
      "\n",
      "key:frist_name\n",
      "value:code\n",
      "\n",
      "key:last_name\n",
      "value:training\n",
      "\n",
      "key:dob\n",
      "value:01-7-1998\n",
      "\n",
      "key:pwd\n",
      "value:12345\n",
      "\n"
     ]
    }
   ],
   "source": [
    "for a,b in user_account.items():\n",
    "    print(f\"key:{a}\")\n",
    "    print(f\"value:{b}\\n\")"
   ]
  },
  {
   "cell_type": "code",
   "execution_count": null,
   "id": "3882c82e",
   "metadata": {},
   "outputs": [],
   "source": []
  }
 ],
 "metadata": {
  "kernelspec": {
   "display_name": "Python 3 (ipykernel)",
   "language": "python",
   "name": "python3"
  },
  "language_info": {
   "codemirror_mode": {
    "name": "ipython",
    "version": 3
   },
   "file_extension": ".py",
   "mimetype": "text/x-python",
   "name": "python",
   "nbconvert_exporter": "python",
   "pygments_lexer": "ipython3",
   "version": "3.10.9"
  }
 },
 "nbformat": 4,
 "nbformat_minor": 5
}
